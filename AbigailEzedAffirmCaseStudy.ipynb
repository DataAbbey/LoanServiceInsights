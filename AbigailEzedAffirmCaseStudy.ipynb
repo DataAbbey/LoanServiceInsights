{
 "cells": [
  {
   "cell_type": "markdown",
   "metadata": {},
   "source": [
    "# Data Issues:"
   ]
  },
  {
   "cell_type": "code",
   "execution_count": 107,
   "metadata": {},
   "outputs": [
    {
     "name": "stdout",
     "output_type": "stream",
     "text": [
      "Index(['user_id', 'checkout_id', 'checkout_ts', 'is_approved', 'is_authed',\n",
      "       'loan_amount', 'apr', 'fico_score'],\n",
      "      dtype='object')\n",
      "          user_id       checkout_id             checkout_ts  is_approved  \\\n",
      "0  6906-4922-IYOH  7IKNXN456VQ3LW4M 2016-11-09 00:23:11.568            1   \n",
      "1  6016-3178-UPRT  FCBPQU1VSUHBVK2P 2016-11-09 00:23:29.475            1   \n",
      "2  3510-6742-URLG  D3Y6DRVAV3KAP1PJ 2016-11-09 00:41:05.925            1   \n",
      "3  3545-1484-KFVW  AHU3JKWBLS4XPQKF 2016-11-09 02:01:01.820            1   \n",
      "4  9223-3913-GZTA  0S731350Z125SGJN 2016-11-09 03:35:31.451            0   \n",
      "\n",
      "   is_authed  loan_amount   apr  fico_score  \n",
      "0          0          513    IB       780.0  \n",
      "1          1          412    IB       640.0  \n",
      "2          1          270  Zero       650.0  \n",
      "3          1          168  Zero       720.0  \n",
      "4          0          116    IB       610.0  \n"
     ]
    }
   ],
   "source": [
    "import pandas as pd\n",
    "import numpy as np\n",
    "import plotly.graph_objects as go\n",
    "import plotly.express as px\n",
    "import matplotlib.pyplot as plt\n",
    "\n",
    "\n",
    "## First, we want to load checkout data from a XSLX file into a DataFrame to\n",
    "## ## understand if null values, duplication exisit along with the various data types.\n",
    "\n",
    "## LOAD CHECKOUT DATA ##\n",
    "## Attention: Be sure to change the line below to your system directory \n",
    "system_dir = '/Users/abbey/Desktop/takehometestfromaffirm/'\n",
    "file_path = system_dir + 'homework_checkouts.xlsx' \n",
    "# Read the CSV file into a DataFrame\n",
    "df = pd.read_excel(file_path)\n",
    "# Print the column names (header)\n",
    "print(df.columns)\n",
    "# Print the first 5 rows of the DataFrame\n",
    "print(df.head())\n",
    "\n"
   ]
  },
  {
   "cell_type": "code",
   "execution_count": 108,
   "metadata": {},
   "outputs": [
    {
     "name": "stdout",
     "output_type": "stream",
     "text": [
      "\n",
      "Missing values for each column:\n",
      "user_id         0\n",
      "checkout_id     0\n",
      "checkout_ts     0\n",
      "is_approved     0\n",
      "is_authed       0\n",
      "loan_amount     0\n",
      "apr             0\n",
      "fico_score     11\n",
      "dtype: int64\n",
      "\n",
      "Duplicate rows:\n",
      "0\n",
      "\n",
      "Summary statistics:\n",
      "                         checkout_ts  is_approved    is_authed  loan_amount  \\\n",
      "count                           1814  1814.000000  1814.000000  1814.000000   \n",
      "mean   2016-11-25 09:31:52.961950976     0.805954     0.651599   402.572216   \n",
      "min       2016-11-09 00:23:11.568000     0.000000     0.000000    83.000000   \n",
      "25%    2016-11-18 05:10:10.373250048     1.000000     0.000000   166.250000   \n",
      "50%    2016-11-27 15:55:44.461999872     1.000000     1.000000   267.000000   \n",
      "75%    2016-12-01 05:17:54.871750144     1.000000     1.000000   462.500000   \n",
      "max       2016-12-08 23:35:09.955000     1.000000     1.000000  5703.000000   \n",
      "std                              NaN     0.395574     0.476595   442.468012   \n",
      "\n",
      "        fico_score  \n",
      "count  1803.000000  \n",
      "mean    695.873544  \n",
      "min     490.000000  \n",
      "25%     640.000000  \n",
      "50%     690.000000  \n",
      "75%     750.000000  \n",
      "max     930.000000  \n",
      "std      77.077944  \n",
      "\n",
      "Data types:\n",
      "user_id                object\n",
      "checkout_id            object\n",
      "checkout_ts    datetime64[ns]\n",
      "is_approved             int64\n",
      "is_authed               int64\n",
      "loan_amount             int64\n",
      "apr                    object\n",
      "fico_score            float64\n",
      "dtype: object\n"
     ]
    }
   ],
   "source": [
    "import pandas as pd\n",
    "\n",
    " # Check for missing values\n",
    "print(\"\\nMissing values for each column:\")\n",
    "print(df.isnull().sum())\n",
    "\n",
    "# Check for duplicate rows\n",
    "print(\"\\nDuplicate rows:\")\n",
    "print(df.duplicated().sum())\n",
    "\n",
    "# Summary statistics for numerical columns\n",
    "print(\"\\nSummary statistics:\")\n",
    "print(df.describe())\n",
    "\n",
    "# Check the data types of each column\n",
    "print(\"\\nData types:\")\n",
    "print(df.dtypes)\n"
   ]
  },
  {
   "cell_type": "code",
   "execution_count": 109,
   "metadata": {},
   "outputs": [
    {
     "name": "stdout",
     "output_type": "stream",
     "text": [
      "             user_id       checkout_id             checkout_ts  is_approved  \\\n",
      "141   3129-8352-SJXB  CTVOLGVSRTWEMZG9 2016-11-12 05:51:40.161            0   \n",
      "394   9237-0485-THEO  HDPY66DN9JNAK63H 2016-11-17 01:56:40.393            1   \n",
      "446   2821-9223-UCXA  C92HWTL3ZE8ZQSR1 2016-11-18 02:35:19.839            0   \n",
      "600   7438-6102-OYML  U0WEPNGHQH5NFNS9 2016-11-21 13:27:49.416            0   \n",
      "932   7084-2393-EVUZ  4MIPKY9IMAC4NK8V 2016-11-27 18:26:08.549            0   \n",
      "1360  2832-1835-WNLC  SCJOCCGKOT2WOF5X 2016-12-01 05:21:01.415            0   \n",
      "1496  8140-1566-KXHF  FUZKOB1M11UYXYRP 2016-12-03 13:19:33.274            0   \n",
      "1512  6807-5922-SDDM  AS9QYYOQ7HGTQQTM 2016-12-03 19:28:58.153            0   \n",
      "1691  9578-8002-UBSX  D09FSSQT36V3Y4G1 2016-12-06 20:45:35.469            0   \n",
      "1746  3140-6292-ROIU  XXYDCEZO6VXTK71T 2016-12-07 17:32:13.366            0   \n",
      "1755  2559-3047-SDZI  WTKR0TC69XHU6XCE 2016-12-07 20:20:34.517            0   \n",
      "\n",
      "      is_authed  loan_amount   apr  fico_score  \n",
      "141           0          122  Zero         NaN  \n",
      "394           1          218    IB         NaN  \n",
      "446           0          856    IB         NaN  \n",
      "600           0          165  Zero         NaN  \n",
      "932           0          609    IB         NaN  \n",
      "1360          0          218    IB         NaN  \n",
      "1496          0          403    IB         NaN  \n",
      "1512          0          209    IB         NaN  \n",
      "1691          0          159  Zero         NaN  \n",
      "1746          0          225    IB         NaN  \n",
      "1755          0          742  Zero         NaN  \n",
      "Percentage of rows with missing FICO scores: 1.0%\n"
     ]
    }
   ],
   "source": [
    "# # Data Type Overview\n",
    "# The data types of the columns are as follows:\n",
    "# - `user_id` is an 12 char integer  \n",
    "# - `checkout_id` is a 16 char integer     \n",
    "# - `checkout_ts` is a datetime object   \n",
    "# - `is_approved` is an integer-boolean (0 or 1)\n",
    "# - 'is_authed' is an integer-boolean (0 or 1)  \n",
    "# - 'loan_amount' is a interger, zero decimal places\n",
    "# - 'apr' is a object with string values: Zero interest, IB for loan make 5% of loan amount in revenue \n",
    "# - 'fico_score' is a float , one decimal place\n",
    "\n",
    "# # Data Quality Issues\n",
    "# - There are no duplicate rows in the dataset.\n",
    "# - There are missing values in the `fico_score` column. Further investagation below.\n",
    "# Filter rows where fico_score is null\n",
    "null_fico_score_df = df[df['fico_score'].isnull()]\n",
    "# Print the rows with null fico_score\n",
    "print(null_fico_score_df)\n",
    "\n",
    "\n",
    "# Observations: #\n",
    "## There are 11 rows with missing values in the `fico_score` column. \n",
    "## I noticed that almost all except one of the rows are users who have not had\n",
    "## their loan approved nor authenticated. This could be the reason why the `fico_score` is missing.\n",
    "## The missing values in the `fico_score` column could be due to the fact that the loan was not approved or authenticated for these users.\n",
    "## For the purpose of exploring the data, I will check the size of missing data in relation to all checkout data. \n",
    "## If the percentage is less than 5%, I will drop the rows with missing values in the `fico_score` column for better data quality. \n",
    "\n",
    "# Calculate the number of rows with missing FICO scores\n",
    "missing_fico_scores = df['fico_score'].isnull().sum()\n",
    "\n",
    "# Calculate the total number of rows\n",
    "total_rows = df.shape[0]\n",
    "\n",
    "# Calculate the percentage of rows with missing FICO scores\n",
    "percentage_missing_fico_scores = round((missing_fico_scores / total_rows),2) * 100\n",
    "\n",
    "print(f\"Percentage of rows with missing FICO scores: {percentage_missing_fico_scores}%\")\n",
    "# The percentage of rows with missing FICO scores is 1%. Therefore, I will drop the rows with missing values in the `fico_score` column for better data quality.\n",
    "df = df.dropna(subset=['fico_score'])"
   ]
  },
  {
   "cell_type": "markdown",
   "metadata": {},
   "source": [
    "# Conversion Rates:"
   ]
  },
  {
   "cell_type": "code",
   "execution_count": 110,
   "metadata": {},
   "outputs": [
    {
     "name": "stdout",
     "output_type": "stream",
     "text": [
      "            Stage  Conversion Rate (%)  Average Loan Amount  Median FICO Score\n",
      "0  Start Checkout               100.00               402.85              690.0\n",
      "1        Decision                81.03               400.69              700.0\n",
      "2          Authed                80.84               360.11              710.0\n"
     ]
    },
    {
     "data": {
      "image/png": "[encoded data removed]",
      "text/plain": [
       "<Figure size 640x480 with 1 Axes>"
      ]
     },
     "metadata": {},
     "output_type": "display_data"
    }
   ],
   "source": [
    "# Calculate the number of users who started the checkout process\n",
    "start_checkout = df['checkout_id'].nunique()\n",
    "# Calculate the average loan amount and median FICO score for users who started the checkout process\n",
    "avg_loan_amount_checkout = round(df['loan_amount'].mean(),2)\n",
    "median_fico_score_checkout = df['fico_score'].median()\n",
    "\n",
    "# Calculate the number of users who got approved or declined\n",
    "decision = df[df['is_approved'] != 0]['checkout_id'].nunique()\n",
    "# Calculate the average loan amount and median FICO score for users who got approved or declined\n",
    "avg_loan_amount_decision = round(df[df['is_approved'] != 0]['loan_amount'].mean(),2)\n",
    "median_fico_score_decision = df[df['is_approved'] != 0]['fico_score'].median()\n",
    "\n",
    "# Calculate the number of users who got authed\n",
    "authed = df[df['is_authed'] != 0]['checkout_id'].nunique()\n",
    "# Calculate the average loan amount and median FICO score for users who got authed\n",
    "avg_loan_amount_authed = round(df[df['is_authed'] != 0]['loan_amount'].mean(),2)\n",
    "median_fico_score_authed = df[df['is_authed'] != 0]['fico_score'].median()\n",
    "\n",
    "# Calculate the conversion rates\n",
    "conversion_rate_decision = round(decision / start_checkout * 100,2)\n",
    "conversion_rate_authed = round(authed / decision * 100,2)\n",
    "# Calculate the overall conversion rate from Start Checkout to Authed\n",
    "conversion_rate_overall = round(authed / start_checkout * 100,2)\n",
    "\n",
    "# Display the results for the stages, the conversion rates, the average loan amounts, and the median FICO scores in table format\n",
    "data = {\n",
    "    'Stage': ['Start Checkout', 'Decision', 'Authed'],\n",
    "    'Conversion Rate (%)': [100, conversion_rate_decision, conversion_rate_authed],\n",
    "    'Average Loan Amount': [avg_loan_amount_checkout, avg_loan_amount_decision, avg_loan_amount_authed],\n",
    "    'Median FICO Score': [median_fico_score_checkout, median_fico_score_decision, median_fico_score_authed]\n",
    "}\n",
    "# Create the DataFrame\n",
    "df_table = pd.DataFrame(data)\n",
    "# Print the result\n",
    "print(df_table)\n",
    "\n",
    "# Create a bar chart to visualize the count of users from Start Checkout to Decision to Authed\n",
    "# Define the stages and counts\n",
    "stages = ['Start Checkout', 'Decision', 'Authed']\n",
    "counts = [start_checkout, decision, authed]\n",
    "# Create the bar chart\n",
    "plt.bar(stages, counts, color='blue')\n",
    "# Add the count above each bar\n",
    "for i in range(len(counts)):\n",
    "    plt.text(i, counts[i], counts[i], ha = 'center')\n",
    "# Add labels and title\n",
    "plt.xlabel('Stages')\n",
    "plt.ylabel('Count of Users')\n",
    "plt.title('Count of Users from Checkout to Decision to Auth')\n",
    "# Show the plot\n",
    "plt.show()\n"
   ]
  },
  {
   "cell_type": "markdown",
   "metadata": {},
   "source": [
    "# Insights:"
   ]
  },
  {
   "cell_type": "markdown",
   "metadata": {},
   "source": [
    "##### Insight #1: Acquisition Cost for Ideal Users"
   ]
  },
  {
   "cell_type": "code",
   "execution_count": 148,
   "metadata": {},
   "outputs": [
    {
     "name": "stdout",
     "output_type": "stream",
     "text": [
      "    apr  total_revenue  total_users  avg_loan_amount  total_cost  \\\n",
      "0    IB         786.50           73       432.142857        2555   \n",
      "1  Zero        2939.45          170       460.392857        5950   \n",
      "\n",
      "   revenue_per_user        roi  \n",
      "0         10.773973 -69.217221  \n",
      "1         17.290882 -50.597479  \n"
     ]
    }
   ],
   "source": [
    "\n",
    "from pandasql import sqldf\n",
    "import pandas as pd\n",
    "# Define a global function to make it easier to use pandasql\n",
    "pysqldf = lambda q: sqldf(q, globals())\n",
    "# Read the data from the Excel files\n",
    "checkouts_df = pd.read_excel(system_dir+'homework_checkouts.xlsx')\n",
    "email_list_df = pd.read_excel( system_dir+'email_list_homework.xlsx')\n",
    "servicing_df = pd.read_excel( system_dir+'servicing_homework.xlsx')\n",
    "\n",
    "# Convert the DataFrames to SQL tables\n",
    "\n",
    "# Given the median FICO score for users who got approved is 700 and authed 710, we can filter the users who have a FICO score greater than or equal to 700   \n",
    "# The goal of the query is to find the total revenue, total users, average loan amount, and total cost for users who have a FICO score greater than or equal to 700 who are in the email list\n",
    "## Cacluating the ROI for each loan type given the marketing efforts to email these users\n",
    "\n",
    "query = \"\"\"\n",
    "SELECT\n",
    "    apr,\n",
    "    SUM(CASE WHEN is_authed = 1 THEN loan_amount * (CASE WHEN apr = 'IB' THEN 0.02 ELSE 0.05 END) ELSE 0 END) AS total_revenue,\n",
    "    COUNT(DISTINCT ch.user_id) AS total_users,\n",
    "    AVG(loan_amount) AS avg_loan_amount,\n",
    "    COUNT(DISTINCT ch.user_id) * 35 AS total_cost,\n",
    "    SUM(CASE WHEN is_authed = 1 THEN loan_amount * (CASE WHEN apr = 'IB' THEN 0.02 ELSE 0.05 END) ELSE 0 END) / COUNT(DISTINCT ch.user_id) AS revenue_per_user\n",
    "FROM\n",
    "    checkouts_df ch\n",
    "JOIN\n",
    "    email_list_df el\n",
    "ON\n",
    "    ch.user_id = el.user_id\n",
    "WHERE\n",
    "    ch.fico_score >= 700\n",
    "GROUP BY\n",
    "    apr;\n",
    "\"\"\"\n",
    "result = pysqldf(query)\n",
    "# Calculate the ROI for each group\n",
    "result['roi'] = (result['total_revenue'] - result['total_cost']) / result['total_cost'] * 100\n",
    "# Print the result\n",
    "print(result)"
   ]
  },
  {
   "cell_type": "markdown",
   "metadata": {},
   "source": [
    "##### Insight #2:  Revenue-Loss Recovery\n"
   ]
  },
  {
   "cell_type": "code",
   "execution_count": 149,
   "metadata": {},
   "outputs": [
    {
     "name": "stdout",
     "output_type": "stream",
     "text": [
      "   is_charge_off  total_revenue  total_loan_amount  avg_contacts  \\\n",
      "0              0         648.09              30787           1.0   \n",
      "1              1         230.00              10940           5.0   \n",
      "\n",
      "   total_contacts  total_cost        roi  \n",
      "0              91        2730 -76.260440  \n",
      "1             180        5400 -95.740741  \n"
     ]
    }
   ],
   "source": [
    "# Calculate the money recovered and unrecovered\n",
    "# The goal of the query is to find the total revenue, total loan amount, average contacts,\n",
    "## total contacts, total cost, and ROI for contact-efforts for revenue recovered vs not recovered\n",
    "query1 = \"\"\"\n",
    "SELECT\n",
    "    is_charge_off,\n",
    "    SUM(CASE WHEN is_authed = 1 THEN loan_amount * (CASE WHEN apr = 'IB' THEN 0.02 ELSE 0.05 END) ELSE 0 END) AS total_revenue,\n",
    "    SUM(loan_amount) AS total_loan_amount,\n",
    "    AVG(contacts) AS avg_contacts,\n",
    "    SUM(contacts) AS total_contacts,\n",
    "    SUM(contacts)*30  AS total_cost,\n",
    "    ((SUM(CASE WHEN is_authed = 1 THEN loan_amount * (CASE WHEN apr = 'IB' THEN 0.02 ELSE 0.05 END) ELSE 0 END) - SUM(contacts)*30 ) / (SUM(contacts)*30))*100.0 AS roi \n",
    "FROM\n",
    "    checkouts_df\n",
    "JOIN\n",
    "    servicing_df\n",
    "ON\n",
    "    checkouts_df.checkout_id = servicing_df.checkout_id\n",
    "GROUP BY\n",
    "    is_charge_off;\n",
    "\"\"\"\n",
    "result1 = pysqldf(query1)\n",
    "print(result1)\n",
    "\n",
    "# ROI = (Potential Revenue Recovery - Total Contact Cost) / Total Contact Cost * 100%\n",
    "# These SQL queries provide a quantitative analysis of the ROI for each recommendation, helping to evaluate the effectiveness of the proposed strategies in improving business outcomes."
   ]
  },
  {
   "cell_type": "markdown",
   "metadata": {},
   "source": []
  }
 ],
 "metadata": {
  "kernelspec": {
   "display_name": "Python 3 (ipykernel)",
   "language": "python",
   "name": "python3"
  },
  "language_info": {
   "codemirror_mode": {
    "name": "ipython",
    "version": 3
   },
   "file_extension": ".py",
   "mimetype": "text/x-python",
   "name": "python",
   "nbconvert_exporter": "python",
   "pygments_lexer": "ipython3",
   "version": "3.11.5"
  }
 },
 "nbformat": 4,
 "nbformat_minor": 2
}
